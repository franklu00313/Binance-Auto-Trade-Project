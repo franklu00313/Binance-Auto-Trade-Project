{
 "cells": [
  {
   "attachments": {},
   "cell_type": "markdown",
   "metadata": {},
   "source": [
    "## Local Test Google Cloud Function\n",
    "\n",
    "command line: `functions-framework --target send_daily_report --debug`\n",
    "\n",
    "(`rebalance_weight`沒辦法local測，因為model weight要從cloud storage下載)"
   ]
  },
  {
   "cell_type": "code",
   "execution_count": 1,
   "metadata": {},
   "outputs": [
    {
     "name": "stdout",
     "output_type": "stream",
     "text": [
      "200\n"
     ]
    },
    {
     "data": {
      "text/plain": [
       "{'log': 'Line Notify messages sent.',\n",
       " 'message': '\\n\\n《本日已實現損益》\\n-1395.72U\\n\\n《本日已實現明細》\\n  時間 |  交易對  | 已實現損益 \\n------------------------------\\n 9:30 S  BTC/USDT  -31.14U\\n 1:30 S  ETH/USDT  -8.34U\\n 4:30 S  ETH/USDT   7.46U\\n 4:30 S  ETH/USDT   0.65U\\n14:30 S  ETH/USDT  -19.49U\\n16:30 S  ETH/USDT   1.99U\\n 5:30 S  BNB/USDT   7.0 U\\n 8:30 S  BNB/USDT  -1.22U\\n 8:30 S  BNB/USDT  -1.68U\\n12:30 S  BNB/USDT  -18.75U\\n16:30 S  BNB/USDT  -7.44U\\n12:30 S  XRP/USDT  -1.08U\\n13:30 S  XRP/USDT  -128.78U\\n17:30 S  XRP/USDT  -119.22U\\n 1:30 S DOGE/USDT  -86.52U\\n13:30 S DOGE/USDT  -3.72U\\n13:30 S DOGE/USDT  -8.52U\\n13:30 S DOGE/USDT  -14.25U\\n13:30 S DOGE/USDT  -48.1U\\n13:30 S DOGE/USDT  -14.81U\\n17:30 S DOGE/USDT  -0.09U\\n 0:30 S  ADA/USDT  -0.75U\\n 0:30 S  ADA/USDT  -52.89U\\n 0:30 S  ADA/USDT   -1.2U\\n 0:30 S  ADA/USDT  -40.01U\\n 0:30 S  ADA/USDT  -1.41U\\n 0:30 S  ADA/USDT  -50.76U\\n 4:30 S  ADA/USDT  -0.35U\\n 5:30 S  ADA/USDT   -0.2U\\n 5:30 S  ADA/USDT  -0.67U\\n 5:30 S  ADA/USDT  -0.79U\\n 5:30 S  ADA/USDT  -22.85U\\n 5:30 S  ADA/USDT  -0.95U\\n 5:30 S  ADA/USDT  -37.75U\\n 5:30 S  ADA/USDT  -1.09U\\n 5:30 S  ADA/USDT  -29.59U\\n 5:30 S  ADA/USDT  -22.46U\\n16:30 S  ADA/USDT  -18.24U\\n16:30 S  ADA/USDT  -31.02U\\n16:30 S  ADA/USDT  -66.34U\\n16:30 S  ADA/USDT  -18.31U\\n 1:30 S MATIC/USDT -29.98U\\n 1:30 S MATIC/USDT -33.33U\\n 5:30 S MATIC/USDT -22.68U\\n 5:30 S MATIC/USDT -16.31U\\n 5:30 S MATIC/USDT -8.94U\\n15:30 S MATIC/USDT -75.71U\\n 0:30 S  DOT/USDT  -2.57U\\n 0:30 S  DOT/USDT  -26.96U\\n 0:30 S  DOT/USDT  -20.82U\\n 0:30 S  DOT/USDT  -23.78U\\n 8:30 S  DOT/USDT  -34.62U\\n 8:30 S  DOT/USDT  -27.19U\\n 8:30 S  DOT/USDT  -42.96U\\n 2:30 S  LTC/USDT   2.38U\\n 6:30 S  LTC/USDT  -1.94U\\n 6:30 S  LTC/USDT  -9.35U\\n10:30 S  LTC/USDT  -15.36U\\n10:30 S  LTC/USDT  -2.84U\\n14:30 S  LTC/USDT   9.63U\\n 7:30 S SHIB/USDT  -12.23U\\n 7:30 S SHIB/USDT  -14.24U\\n 7:30 S SHIB/USDT  -11.1U\\n 7:30 S SHIB/USDT  -6.71U\\n11:30 S SHIB/USDT  -15.63U\\n11:30 S SHIB/USDT  -10.44U\\n11:30 S SHIB/USDT  -10.8U\\n15:30 S SHIB/USDT  -4.62U\\n15:30 S SHIB/USDT  -11.51U\\n15:30 S SHIB/USDT  -19.43U\\n15:30 S SHIB/USDT  -1.87U\\n17:30 S SHIB/USDT  -0.11U'}"
      ]
     },
     "execution_count": 1,
     "metadata": {},
     "output_type": "execute_result"
    }
   ],
   "source": [
    "import requests\n",
    "r = requests.post('http://127.0.0.1:8080')\n",
    "print(r.status_code)\n",
    "r.json()"
   ]
  },
  {
   "cell_type": "code",
   "execution_count": null,
   "metadata": {},
   "outputs": [],
   "source": []
  }
 ],
 "metadata": {
  "kernelspec": {
   "display_name": "binance",
   "language": "python",
   "name": "python3"
  },
  "language_info": {
   "codemirror_mode": {
    "name": "ipython",
    "version": 3
   },
   "file_extension": ".py",
   "mimetype": "text/x-python",
   "name": "python",
   "nbconvert_exporter": "python",
   "pygments_lexer": "ipython3",
   "version": "3.9.15 (main, Nov 24 2022, 14:39:17) [MSC v.1916 64 bit (AMD64)]"
  },
  "orig_nbformat": 4,
  "vscode": {
   "interpreter": {
    "hash": "77d4c3be684d42c68b79964afa38f460cbe24ead7b63797f02359f65925092c9"
   }
  }
 },
 "nbformat": 4,
 "nbformat_minor": 2
}
